{
 "cells": [
  {
   "cell_type": "markdown",
   "metadata": {},
   "source": [
    "# Tarea 2\n",
    "\n",
    "## Razones para aprender y usar Python\n",
    "\n",
    "Actualmente, Python se encuentra en la lista de los 10 principales lenguajes de programación. Pero, ¿A qué se debe la popularidad de Python? Python, a diferencia de otros lenguajes de programación es ideal para propositos generales, así como programación de alto nivel, haciendo a Python una plataforma funcional para todo tipo de programadores.  Un artículo publicado por [Medium](https://medium.com/@mindfiresolutions.usa/python-7-important-reasons-why-you-should-use-python-5801a98a0d0b), lista 7 razones por las cuales se debe aprender a usar Python. \n",
    "\n",
    "Entre las principales se encuentra está el uso de codigo legible y mantenible, permitiendo el uso de palabras y vacablos en vez de puntuación, haciendolo más legible, limpio, y facil de mantener. Otra razón listada en el artículo es la amplia librería con la que cuenta Python, que permite al programador accesar un número de modulos para diferentes aplicaciones sin la necesidad de escribir codigo adicional. Una razón adicional, es la compatibilidad con la mayoria de sistemas operativos y plataformas. Permitiendo correr un codigo en multiples plataformas sin la necesidad de hacer modificaciones [1]. \n",
    "\n",
    "## Lenguajes de programación del año\n",
    "\n",
    "Según otro artículo publicado por [ZDNet](https://medium.com/@mindfiresolutions.usa/python-7-important-reasons-why-you-should-use-python-5801a98a0d0b), en el 2019, Pyhton entro el top 3 de los principales lenguajes de programación, ganando 3.62% en el ranking Tiobes. Quedando atras de Java y Visual Basic. NET. El exito de este lenguaje, según el artículo, se debe a que Python es uno de los principales lenguajes enseñafos en las universidades, además de que es ideal para aplicaciones ubicuas tal como análisis estadístico, machine-learning, web-programming, entre otros. Otra área de gran interes para Python es para los Hackers, esto gracias a su sintaxis fácil de entender, amplia disponibilidad de tutoriales en línea y una gran cantidad de librerías disponibles[2].\n",
    "\n",
    "1. Mindfire solutions (2017) Python: *7 Important Reasons Why You Should Use Python.* Medium. Accessed Febrero 2, 2019 en https://medium.com/@mindfiresolutions.usa/python-7-important-reasons-why-you-should-use-python-5801a98a0d0b\n",
    "\n",
    "2. Tung, L. (2019) *Programming language of the year? Python is standout in latest rankings* ZDNet Accessed Febrero 2, 2019 en https://www.zdnet.com/article/programming-language-of-the-year-python-is-standout-in-latest-rankings/\n",
    "\n",
    "\n",
    " \n"
   ]
  },
  {
   "cell_type": "code",
   "execution_count": null,
   "metadata": {},
   "outputs": [],
   "source": []
  }
 ],
 "metadata": {
  "kernelspec": {
   "display_name": "Python 3",
   "language": "python",
   "name": "python3"
  },
  "language_info": {
   "codemirror_mode": {
    "name": "ipython",
    "version": 3
   },
   "file_extension": ".py",
   "mimetype": "text/x-python",
   "name": "python",
   "nbconvert_exporter": "python",
   "pygments_lexer": "ipython3",
   "version": "3.7.4"
  }
 },
 "nbformat": 4,
 "nbformat_minor": 2
}
